{
  "nbformat": 4,
  "nbformat_minor": 0,
  "metadata": {
    "colab": {
      "provenance": [],
      "authorship_tag": "ABX9TyN5DThAw2i+ZryFZkrv7+5X",
      "include_colab_link": true
    },
    "kernelspec": {
      "name": "python3",
      "display_name": "Python 3"
    },
    "language_info": {
      "name": "python"
    }
  },
  "cells": [
    {
      "cell_type": "markdown",
      "metadata": {
        "id": "view-in-github",
        "colab_type": "text"
      },
      "source": [
        "<a href=\"https://colab.research.google.com/github/Leonardo16Rojas/programacionAplicada/blob/main/Corte%202/Collections.ipynb\" target=\"_parent\"><img src=\"https://colab.research.google.com/assets/colab-badge.svg\" alt=\"Open In Colab\"/></a>"
      ]
    },
    {
      "cell_type": "code",
      "execution_count": null,
      "metadata": {
        "colab": {
          "base_uri": "https://localhost:8080/"
        },
        "id": "htb7cOvGIGb0",
        "outputId": "79f6bf9f-adc7-4d05-d310-0370ffa5e419"
      },
      "outputs": [
        {
          "output_type": "stream",
          "name": "stdout",
          "text": [
            "{'goldfish', 'canary', 'dog', 'cat'}\n"
          ]
        }
      ],
      "source": [
        "animals = {'cat', 'dog', 'goldfish', 'canary', 'cat'}#Crea un conjunto\n",
        "print(animals) #Imprime el conjunto, Solo habra un elemento gato"
      ]
    },
    {
      "cell_type": "code",
      "source": [
        "even_numbers = {2, 4, 6, 8, 10}#Crea un conjunto con numertos pares\n",
        "big_numbers = {6, 7, 8, 9, 10}#Crea un conjunto con numeros grandes\n",
        "\n",
        "# sustraccion\n",
        "print(big_numbers - even_numbers)#Resta el conto 1 al 2 y lo imprime\n",
        "\n",
        "#Union\n",
        "print(big_numbers | even_numbers)#Hace la operacion \"union\" entre los dos conjuntos y lo imprime\n",
        "\n",
        "#Intersseccion\n",
        "print(big_numbers & even_numbers)#Hace la operacion \"interseccion\" entre los dos conjuntos y lo imprime"
      ],
      "metadata": {
        "colab": {
          "base_uri": "https://localhost:8080/"
        },
        "id": "dgLZbdRWI0Ut",
        "outputId": "123c6ad0-9695-4d4d-addf-8bc79c48941d"
      },
      "execution_count": null,
      "outputs": [
        {
          "output_type": "stream",
          "name": "stdout",
          "text": [
            "{9, 7}\n",
            "{2, 4, 6, 7, 8, 9, 10}\n",
            "{8, 10, 6}\n"
          ]
        }
      ]
    },
    {
      "cell_type": "code",
      "source": [
        "print(animals)#Imprime el conjunto generado anteriormente\n",
        "print(sorted(animals))#Imprime el conjunto con los elementos ordenados aleatoriamente(En conjunto no exixte orden)"
      ],
      "metadata": {
        "colab": {
          "base_uri": "https://localhost:8080/"
        },
        "id": "I6C6AKhLKFy2",
        "outputId": "a7bd2437-fa05-4cdd-fbac-cd34aaeed8bb"
      },
      "execution_count": null,
      "outputs": [
        {
          "output_type": "stream",
          "name": "stdout",
          "text": [
            "{'goldfish', 'canary', 'dog', 'cat'}\n",
            "['canary', 'cat', 'dog', 'goldfish']\n"
          ]
        }
      ]
    },
    {
      "cell_type": "code",
      "source": [
        "\n",
        "a = {}#Se crea un DICCIONARIO vacio\n",
        "print(a)\n",
        "b = set()#Se crea un CONJUNTO vacio\n",
        "print(b)"
      ],
      "metadata": {
        "colab": {
          "base_uri": "https://localhost:8080/"
        },
        "id": "-IOdFpU2KTHS",
        "outputId": "efc080a5-6b0a-469a-b3dd-2c96090b6711"
      },
      "execution_count": null,
      "outputs": [
        {
          "output_type": "stream",
          "name": "stdout",
          "text": [
            "{}\n",
            "set()\n"
          ]
        }
      ]
    },
    {
      "cell_type": "code",
      "source": [
        "\n",
        "print(list(range(10))) #Imprime una lista con un rango de 0 al 9\n",
        "\n",
        "\n",
        "\n",
        "print(list(range(1, 11)))#Imprime una lista con un rango de 1 al 10\n",
        "\n",
        "\n",
        "print(list(range(1, 11, 2)))#Imprime una lista con los numeros enteros impares en un rango de 1 al 10"
      ],
      "metadata": {
        "colab": {
          "base_uri": "https://localhost:8080/"
        },
        "id": "Wv0LnfpCLOEG",
        "outputId": "1200c359-d6c7-4d62-cf76-a9885af2911c"
      },
      "execution_count": null,
      "outputs": [
        {
          "output_type": "stream",
          "name": "stdout",
          "text": [
            "[0, 1, 2, 3, 4, 5, 6, 7, 8, 9]\n",
            "[1, 2, 3, 4, 5, 6, 7, 8, 9, 10]\n",
            "[1, 3, 5, 7, 9]\n"
          ]
        }
      ]
    },
    {
      "cell_type": "code",
      "source": [
        "animals = ['cat', 'dog', 'goldfish', 'canary', 'cat']#Crea una lista\n",
        "print(animals)\n",
        "animals_set = set(animals) #Convierte la lista en un conjunto\n",
        "print(animals_set)\n",
        "animals_unique_list = list(animals_set)#Convierte el conjunto anterior en una lista unica\n",
        "print(animals_unique_list)\n",
        "animals_unique_tuple = tuple(animals_unique_list)#Convierte la lista  anterior en una tupla unica\n",
        "print(animals_unique_tuple)"
      ],
      "metadata": {
        "colab": {
          "base_uri": "https://localhost:8080/"
        },
        "id": "Lg-vsGjERmMR",
        "outputId": "346a0ad5-9711-4e24-d256-b77a47f311c2"
      },
      "execution_count": null,
      "outputs": [
        {
          "output_type": "stream",
          "name": "stdout",
          "text": [
            "['cat', 'dog', 'goldfish', 'canary', 'cat']\n",
            "{'goldfish', 'canary', 'dog', 'cat'}\n",
            "['goldfish', 'canary', 'dog', 'cat']\n",
            "('goldfish', 'canary', 'dog', 'cat')\n"
          ]
        }
      ]
    },
    {
      "cell_type": "code",
      "source": [
        "marbles = {\"red\": 34, \"green\": 30, \"brown\": 31, \"yellow\": 29 } #Crea un diccionario\n",
        "\n",
        "colours = list(marbles) #Convierte el diccionario en una lista\n",
        "print(colours)\n",
        "counts = tuple(marbles.values()) #Convierte el diccionario en una tupla\n",
        "print(counts)\n",
        "marbles_set = set(marbles.items()) #Convierte el diccionario en un conjunto, devuelve una vista de los pares clave-valor del diccionario como tuplas\n",
        "print(marbles_set)"
      ],
      "metadata": {
        "colab": {
          "base_uri": "https://localhost:8080/"
        },
        "id": "8xeN2TbPSaCU",
        "outputId": "2ff8dac0-4fc8-4ef5-de2b-6e4d9ac8689c"
      },
      "execution_count": null,
      "outputs": [
        {
          "output_type": "stream",
          "name": "stdout",
          "text": [
            "['red', 'green', 'brown', 'yellow']\n",
            "(34, 30, 31, 29)\n",
            "{('green', 30), ('brown', 31), ('red', 34), ('yellow', 29)}\n"
          ]
        }
      ]
    },
    {
      "cell_type": "code",
      "source": [
        "# Python no sabe como convertir esto en un diccionario\n",
        "#dict([1, 2, 3, 4])\n",
        "\n",
        "dict([(1, 2), (3, 4)])#Se está pasando una lista de tuplas, donde cada tupla es un par (clave, valor)"
      ],
      "metadata": {
        "colab": {
          "base_uri": "https://localhost:8080/"
        },
        "id": "7TEwJN8gUaUK",
        "outputId": "4ad3bd5c-3734-464d-e8e3-5a8c7c7f320a"
      },
      "execution_count": null,
      "outputs": [
        {
          "output_type": "execute_result",
          "data": {
            "text/plain": [
              "{1: 2, 3: 4}"
            ]
          },
          "metadata": {},
          "execution_count": 19
        }
      ]
    },
    {
      "cell_type": "code",
      "source": [
        "s = \"abracadabra\"#Aquí se define una cadena de texto (string)\n",
        "\n",
        "print(len(s))#Imprime la longitud de la cadena\n",
        "print(s.index(\"a\"))# Imprime la posición del primer carácter \"a\" en la cadena\n",
        "\n",
        "print(s[0]) #Imprime el  primer carácter de la cadena (índice 0).\n",
        "print(s[3:5])#accede a una subcadena desde el índice 3 (inclusive) hasta el 5 (exclusivo) y la imprime\n"
      ],
      "metadata": {
        "colab": {
          "base_uri": "https://localhost:8080/"
        },
        "id": "D-vNnh_emr5M",
        "outputId": "ac9a9ea8-1dd3-4636-e31a-aed27a1b85d9"
      },
      "execution_count": null,
      "outputs": [
        {
          "output_type": "stream",
          "name": "stdout",
          "text": [
            "11\n",
            "0\n",
            "a\n",
            "ac\n"
          ]
        }
      ]
    },
    {
      "cell_type": "code",
      "source": [
        "s[0] = \"b\" #Error no puedo modificar caracteres"
      ],
      "metadata": {
        "id": "YAlgYaNjnwJS"
      },
      "execution_count": null,
      "outputs": []
    },
    {
      "cell_type": "code",
      "source": [
        "print('h' in 'abcd') # Verifica si exixte un caracter en una cadena, retorna un buleano"
      ],
      "metadata": {
        "colab": {
          "base_uri": "https://localhost:8080/"
        },
        "id": "UtaspdMIoFa7",
        "outputId": "2992bbc2-2e0c-4599-9863-358873a95266"
      },
      "execution_count": null,
      "outputs": [
        {
          "output_type": "stream",
          "name": "stdout",
          "text": [
            "False\n"
          ]
        }
      ]
    },
    {
      "cell_type": "code",
      "source": [
        "print('ab' in 'abcd') # Verifica si exixte un caracter en una cadena, retorna un buleano"
      ],
      "metadata": {
        "colab": {
          "base_uri": "https://localhost:8080/"
        },
        "id": "Q8G6wRZQoJDw",
        "outputId": "30ca77b4-0cbc-4809-a557-b26ab45fade6"
      },
      "execution_count": null,
      "outputs": [
        {
          "output_type": "stream",
          "name": "stdout",
          "text": [
            "True\n"
          ]
        }
      ]
    },
    {
      "cell_type": "code",
      "source": [
        "# this doesn't work for lists\n",
        "print(['a', 'b'] in ['a', 'b', 'c', 'd']) #Verifica si el elemento [(\"a\" , \"b\")], se encuentra en la lista"
      ],
      "metadata": {
        "colab": {
          "base_uri": "https://localhost:8080/"
        },
        "id": "_v93AhY2oKnw",
        "outputId": "e2aadd80-baa0-47e5-bb75-11f5905353af"
      },
      "execution_count": null,
      "outputs": [
        {
          "output_type": "stream",
          "name": "stdout",
          "text": [
            "False\n"
          ]
        }
      ]
    },
    {
      "cell_type": "code",
      "source": [
        "abc_list = list(\"abracadabra\")#Convierte la cadena a una lista de caracteres\n",
        "print(abc_list)#Imprime la lista"
      ],
      "metadata": {
        "colab": {
          "base_uri": "https://localhost:8080/"
        },
        "id": "QX1guTXpoMRv",
        "outputId": "234f9232-73bb-4ee1-ffcf-2c09d9d539c5"
      },
      "execution_count": null,
      "outputs": [
        {
          "output_type": "stream",
          "name": "stdout",
          "text": [
            "['a', 'b', 'r', 'a', 'c', 'a', 'd', 'a', 'b', 'r', 'a']\n"
          ]
        }
      ]
    },
    {
      "cell_type": "code",
      "source": [
        "l = ['a', 'b', 'r', 'a', 'c', 'a', 'd', 'a', 'b', 'r', 'a']# Crea una lista\n",
        "\n",
        "s = \"\".join(l)#Metodo de cadena con párametro , Convierte la lista de caracteres a una cadena\n",
        "print(s)#Imprime la cadena"
      ],
      "metadata": {
        "colab": {
          "base_uri": "https://localhost:8080/"
        },
        "id": "y94vIJiDoXIX",
        "outputId": "17025813-9b48-48cf-a0df-5839aadce3a8"
      },
      "execution_count": null,
      "outputs": [
        {
          "output_type": "stream",
          "name": "stdout",
          "text": [
            "abracadabra\n"
          ]
        }
      ]
    },
    {
      "cell_type": "code",
      "source": [
        "animals = ('cat', 'dog', 'fish')#Crea una tupla"
      ],
      "metadata": {
        "id": "5PUrjRsmoZDv"
      },
      "execution_count": null,
      "outputs": []
    },
    {
      "cell_type": "code",
      "source": [
        "\n",
        "print(\" \".join(animals))#Convierte la tupla a una cadena con un espacio entre los elementos"
      ],
      "metadata": {
        "colab": {
          "base_uri": "https://localhost:8080/"
        },
        "id": "UaCl2cWRodlv",
        "outputId": "a5ebba53-dcfd-4650-f1a5-127d7d0f823a"
      },
      "execution_count": null,
      "outputs": [
        {
          "output_type": "stream",
          "name": "stdout",
          "text": [
            "cat dog goldfish canary cat\n"
          ]
        }
      ]
    },
    {
      "cell_type": "code",
      "source": [
        "\n",
        "print(\",\".join(animals))#Convierte la tupla a una cadena con una coma(,) entre los elementos"
      ],
      "metadata": {
        "colab": {
          "base_uri": "https://localhost:8080/"
        },
        "id": "dEwKzqSJofUw",
        "outputId": "ea5760d4-bb9a-4beb-ed2f-cf7bf0aa6441"
      },
      "execution_count": null,
      "outputs": [
        {
          "output_type": "stream",
          "name": "stdout",
          "text": [
            "cat,dog,goldfish,canary,cat\n"
          ]
        }
      ]
    },
    {
      "cell_type": "code",
      "source": [
        "\n",
        "print(\", \".join(animals))#Convierte la tupla a una cadena con una coma(,) y espacio entre los elementos"
      ],
      "metadata": {
        "colab": {
          "base_uri": "https://localhost:8080/"
        },
        "id": "TXgLqR42ohYn",
        "outputId": "52d459ed-ac44-4150-d3f2-22d626940980"
      },
      "execution_count": null,
      "outputs": [
        {
          "output_type": "stream",
          "name": "stdout",
          "text": [
            "cat, dog, goldfish, canary, cat\n"
          ]
        }
      ]
    },
    {
      "cell_type": "code",
      "source": [
        "print(\"cat    dog fish\\n\".split())#Divide una cadena en palabras"
      ],
      "metadata": {
        "colab": {
          "base_uri": "https://localhost:8080/"
        },
        "id": "tBN7NtJgojv_",
        "outputId": "8d3c48fd-de07-425e-d2db-e2396b6271c9"
      },
      "execution_count": null,
      "outputs": [
        {
          "output_type": "stream",
          "name": "stdout",
          "text": [
            "['cat', 'dog', 'fish']\n"
          ]
        }
      ]
    },
    {
      "cell_type": "code",
      "source": [
        "print(\"cat|dog|fish\".split(\"|\"))#Divide la cadena, especificando un delimitador"
      ],
      "metadata": {
        "colab": {
          "base_uri": "https://localhost:8080/"
        },
        "id": "h2u2KkZLomDv",
        "outputId": "676aed69-60c5-41b3-cfe9-7129b9c81a78"
      },
      "execution_count": null,
      "outputs": [
        {
          "output_type": "stream",
          "name": "stdout",
          "text": [
            "['cat', 'dog', 'fish']\n"
          ]
        }
      ]
    },
    {
      "cell_type": "code",
      "source": [
        "print(\"cat, dog, fish\".split(\", \"))#Divide el texto en partes usando , (coma y espacio) como separador"
      ],
      "metadata": {
        "colab": {
          "base_uri": "https://localhost:8080/"
        },
        "id": "G223cf_Ron_n",
        "outputId": "ed13ec5a-2c11-4521-f43c-0e29100969bd"
      },
      "execution_count": null,
      "outputs": [
        {
          "output_type": "stream",
          "name": "stdout",
          "text": [
            "['cat', 'dog', 'fish']\n"
          ]
        }
      ]
    },
    {
      "cell_type": "code",
      "source": [
        "print(\"cat, dog, fish\".split(\", \", 2))# Divide el string usando (coma y espacio) como separador\n",
        "#El número 2 indica el número máximo de divisiones que se deben hacer"
      ],
      "metadata": {
        "colab": {
          "base_uri": "https://localhost:8080/"
        },
        "id": "dUDkPPXGop53",
        "outputId": "0e55c8b2-de7d-4889-dac2-f0dd3098de31"
      },
      "execution_count": null,
      "outputs": [
        {
          "output_type": "stream",
          "name": "stdout",
          "text": [
            "['cat', 'dog', 'fish']\n"
          ]
        }
      ]
    },
    {
      "cell_type": "code",
      "source": [
        "my_table = [\n",
        "    [1, 2, 3],\n",
        "    [4, 5, 6],\n",
        "    [7, 8, 9],\n",
        "    [10, 11, 12],\n",
        "] #Crea una lista de listas, que puede ver como una tabla o matriz con"
      ],
      "metadata": {
        "id": "uQ5U_ayJvFCb"
      },
      "execution_count": null,
      "outputs": []
    },
    {
      "cell_type": "code",
      "source": [
        "print(my_table[0][0]) #Imprime el primer elemento"
      ],
      "metadata": {
        "colab": {
          "base_uri": "https://localhost:8080/"
        },
        "id": "TkVmtBX8wGXA",
        "outputId": "45e8a0f8-ef6b-4f87-c61b-777075e23221"
      },
      "execution_count": null,
      "outputs": [
        {
          "output_type": "stream",
          "name": "stdout",
          "text": [
            "1\n"
          ]
        }
      ]
    },
    {
      "cell_type": "code",
      "source": [
        "# lists are mutable, so we can do this\n",
        "my_table[0][0] = 42#Cambia el primer elemento por 42\n",
        "print(my_table)#Imprime lña tabla"
      ],
      "metadata": {
        "colab": {
          "base_uri": "https://localhost:8080/"
        },
        "id": "0m-_PuiWwZFw",
        "outputId": "279643f6-f31e-4732-856b-cd1d49227b91"
      },
      "execution_count": null,
      "outputs": [
        {
          "output_type": "stream",
          "name": "stdout",
          "text": [
            "[[42, 2, 3], [4, 5, 6], [7, 8, 9], [10, 11, 12]]\n"
          ]
        }
      ]
    },
    {
      "cell_type": "code",
      "source": [
        "my_2d_list = [\n",
        "    [0],\n",
        "    [1, 2, 3, 4],\n",
        "    [5, 6],\n",
        "] #Crea una segunda lista de listas\n",
        "print(my_2d_list) #Imprime la lista"
      ],
      "metadata": {
        "colab": {
          "base_uri": "https://localhost:8080/"
        },
        "id": "VnXW3w4dxP_-",
        "outputId": "be129c48-e704-4c9a-fab8-789dffeabb26"
      },
      "execution_count": null,
      "outputs": [
        {
          "output_type": "stream",
          "name": "stdout",
          "text": [
            "[[0], [1, 2, 3, 4], [5, 6]]\n"
          ]
        }
      ]
    },
    {
      "cell_type": "code",
      "source": [
        "my_3d_list = [\n",
        "    [[1, 2], [3, 4]],\n",
        "    [[5, 6], [7, 8]],\n",
        "]#Crea una tercera  lista tridimencional de listas\n",
        "print(my_3d_list[0][0][0]) #Imprime el primer elemento"
      ],
      "metadata": {
        "colab": {
          "base_uri": "https://localhost:8080/"
        },
        "id": "o26c0dLHxjQ2",
        "outputId": "0b65b5f4-b955-4781-a14e-663ad847cb86"
      },
      "execution_count": null,
      "outputs": [
        {
          "output_type": "stream",
          "name": "stdout",
          "text": [
            "1\n"
          ]
        }
      ]
    },
    {
      "cell_type": "code",
      "source": [
        "my_long_list = [0] * 100 #Crea una lista que contiene el número 0 repetido 100 veces\n",
        "print(my_long_list)#Imprime la lista\n"
      ],
      "metadata": {
        "id": "8XxgsxHpx_AG",
        "colab": {
          "base_uri": "https://localhost:8080/"
        },
        "outputId": "fa6a2256-b84f-4e46-be26-7c6a09376080"
      },
      "execution_count": null,
      "outputs": [
        {
          "output_type": "stream",
          "name": "stdout",
          "text": [
            "[0, 0, 0, 0, 0, 0, 0, 0, 0, 0, 0, 0, 0, 0, 0, 0, 0, 0, 0, 0, 0, 0, 0, 0, 0, 0, 0, 0, 0, 0, 0, 0, 0, 0, 0, 0, 0, 0, 0, 0, 0, 0, 0, 0, 0, 0, 0, 0, 0, 0, 0, 0, 0, 0, 0, 0, 0, 0, 0, 0, 0, 0, 0, 0, 0, 0, 0, 0, 0, 0, 0, 0, 0, 0, 0, 0, 0, 0, 0, 0, 0, 0, 0, 0, 0, 0, 0, 0, 0, 0, 0, 0, 0, 0, 0, 0, 0, 0, 0, 0]\n"
          ]
        }
      ]
    },
    {
      "cell_type": "code",
      "source": [
        "day = [\"\"] * 24 #Crea una lista llamada day con 24 elementos, donde cada elemento es una cadena vacía (\"\").\n",
        "print(day)#Imprime la lista"
      ],
      "metadata": {
        "id": "OCt7CzGSyBVH",
        "colab": {
          "base_uri": "https://localhost:8080/"
        },
        "outputId": "cb7a7cec-8874-4782-b7ba-0eadd1300f4e"
      },
      "execution_count": null,
      "outputs": [
        {
          "output_type": "stream",
          "name": "stdout",
          "text": [
            "['', '', '', '', '', '', '', '', '', '', '', '', '', '', '', '', '', '', '', '', '', '', '', '']\n"
          ]
        }
      ]
    },
    {
      "cell_type": "code",
      "source": [
        "timetable = day * 7 #Crea una nueva lista  que contiene la lista day repetida 7 veces\n",
        "print(timetable) #Imprime la lista"
      ],
      "metadata": {
        "id": "0vNAm43PyDE_",
        "colab": {
          "base_uri": "https://localhost:8080/"
        },
        "outputId": "4711fea2-7d6c-44ff-a3b9-934ad34001b2"
      },
      "execution_count": null,
      "outputs": [
        {
          "output_type": "stream",
          "name": "stdout",
          "text": [
            "['', '', '', '', '', '', '', '', '', '', '', '', '', '', '', '', '', '', '', '', '', '', '', '', '', '', '', '', '', '', '', '', '', '', '', '', '', '', '', '', '', '', '', '', '', '', '', '', '', '', '', '', '', '', '', '', '', '', '', '', '', '', '', '', '', '', '', '', '', '', '', '', '', '', '', '', '', '', '', '', '', '', '', '', '', '', '', '', '', '', '', '', '', '', '', '', '', '', '', '', '', '', '', '', '', '', '', '', '', '', '', '', '', '', '', '', '', '', '', '', '', '', '', '', '', '', '', '', '', '', '', '', '', '', '', '', '', '', '', '', '', '', '', '', '', '', '', '', '', '', '', '', '', '', '', '', '', '', '', '', '', '', '', '', '', '', '', '']\n"
          ]
        }
      ]
    },
    {
      "cell_type": "code",
      "source": [
        "timetable = [[\"\"] * 24 for day in range(7)] #Crea una lista de listas, donde cada sublista representa un día con 24 horas, y cada hora contiene inicialmente una cadena vacía\n",
        "print(timetable)"
      ],
      "metadata": {
        "id": "XL6A5qPIyE6F",
        "colab": {
          "base_uri": "https://localhost:8080/"
        },
        "outputId": "b46b7f56-a50a-4c81-8718-adac9682f498"
      },
      "execution_count": null,
      "outputs": [
        {
          "output_type": "stream",
          "name": "stdout",
          "text": [
            "[['', '', '', '', '', '', '', '', '', '', '', '', '', '', '', '', '', '', '', '', '', '', '', ''], ['', '', '', '', '', '', '', '', '', '', '', '', '', '', '', '', '', '', '', '', '', '', '', ''], ['', '', '', '', '', '', '', '', '', '', '', '', '', '', '', '', '', '', '', '', '', '', '', ''], ['', '', '', '', '', '', '', '', '', '', '', '', '', '', '', '', '', '', '', '', '', '', '', ''], ['', '', '', '', '', '', '', '', '', '', '', '', '', '', '', '', '', '', '', '', '', '', '', ''], ['', '', '', '', '', '', '', '', '', '', '', '', '', '', '', '', '', '', '', '', '', '', '', ''], ['', '', '', '', '', '', '', '', '', '', '', '', '', '', '', '', '', '', '', '', '', '', '', '']]\n"
          ]
        }
      ]
    }
  ]
}